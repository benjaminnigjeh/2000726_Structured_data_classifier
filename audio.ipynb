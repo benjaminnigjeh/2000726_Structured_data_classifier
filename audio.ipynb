{
  "nbformat": 4,
  "nbformat_minor": 0,
  "metadata": {
    "colab": {
      "provenance": [],
      "authorship_tag": "ABX9TyNYDxJteHa4iI3rb5dA3iJK",
      "include_colab_link": true
    },
    "kernelspec": {
      "name": "python3",
      "display_name": "Python 3"
    },
    "language_info": {
      "name": "python"
    }
  },
  "cells": [
    {
      "cell_type": "markdown",
      "metadata": {
        "id": "view-in-github",
        "colab_type": "text"
      },
      "source": [
        "<a href=\"https://colab.research.google.com/github/benjaminnigjeh/2000726_Structured_data_classifier/blob/master/audio.ipynb\" target=\"_parent\"><img src=\"https://colab.research.google.com/assets/colab-badge.svg\" alt=\"Open In Colab\"/></a>"
      ]
    },
    {
      "cell_type": "markdown",
      "source": [
        "#Download MP3 from Youtube"
      ],
      "metadata": {
        "id": "fSRzS_JucS2d"
      }
    },
    {
      "cell_type": "code",
      "execution_count": null,
      "metadata": {
        "id": "Ojq6RhxnV84I"
      },
      "outputs": [],
      "source": [
        "!pip install -U yt-dlp\n"
      ]
    },
    {
      "cell_type": "code",
      "source": [
        "import os\n",
        "os.system(\"yt-dlp -x --audio-format mp3 https://www.youtube.com/watch?v=qZp6chNS0MI\")\n"
      ],
      "metadata": {
        "colab": {
          "base_uri": "https://localhost:8080/"
        },
        "id": "QOqX2U3zWUZR",
        "outputId": "27ccde4e-e41d-4f9a-82af-59572bdb8df0"
      },
      "execution_count": 3,
      "outputs": [
        {
          "output_type": "execute_result",
          "data": {
            "text/plain": [
              "0"
            ]
          },
          "metadata": {},
          "execution_count": 3
        }
      ]
    },
    {
      "cell_type": "markdown",
      "source": [
        "#Slowdown entire MP3"
      ],
      "metadata": {
        "id": "tjsCziKAcdcl"
      }
    },
    {
      "cell_type": "code",
      "source": [
        "!pip install pydub"
      ],
      "metadata": {
        "colab": {
          "base_uri": "https://localhost:8080/"
        },
        "id": "7S-wiPKPZYir",
        "outputId": "e33f3add-ba89-428d-8efc-051c4ff28ada"
      },
      "execution_count": 5,
      "outputs": [
        {
          "output_type": "stream",
          "name": "stdout",
          "text": [
            "Collecting pydub\n",
            "  Downloading pydub-0.25.1-py2.py3-none-any.whl.metadata (1.4 kB)\n",
            "Downloading pydub-0.25.1-py2.py3-none-any.whl (32 kB)\n",
            "Installing collected packages: pydub\n",
            "Successfully installed pydub-0.25.1\n"
          ]
        }
      ]
    },
    {
      "cell_type": "code",
      "source": [
        "from pydub import AudioSegment\n",
        "\n",
        "sound = AudioSegment.from_file(\"Gary Moore - Still Got the Blues (live) Guitar Tab ｜ Lesson ｜ Cover ｜ Tutorial ｜ PRS SE McCarty 594 [qZp6chNS0MI].mp3\")\n",
        "slower_sound = sound._spawn(sound.raw_data, overrides={\n",
        "    \"frame_rate\": int(sound.frame_rate * 0.8)  # 0.8 = 80% speed\n",
        "}).set_frame_rate(sound.frame_rate)\n",
        "\n",
        "slower_sound.export(\"slowed_down.mp3\", format=\"mp3\")\n"
      ],
      "metadata": {
        "colab": {
          "base_uri": "https://localhost:8080/"
        },
        "id": "a8TSD3Z8YSv3",
        "outputId": "05a72a38-aa35-4286-8618-c54d0e171932"
      },
      "execution_count": 7,
      "outputs": [
        {
          "output_type": "execute_result",
          "data": {
            "text/plain": [
              "<_io.BufferedRandom name='slowed_down.mp3'>"
            ]
          },
          "metadata": {},
          "execution_count": 7
        }
      ]
    },
    {
      "cell_type": "markdown",
      "source": [
        "#Slowdown only a part of MP3"
      ],
      "metadata": {
        "id": "4t85fuurcjh5"
      }
    },
    {
      "cell_type": "code",
      "source": [
        "from pydub import AudioSegment\n",
        "\n",
        "# Load audio\n",
        "audio = AudioSegment.from_file(\"Gary Moore - Still Got the Blues (live) Guitar Tab ｜ Lesson ｜ Cover ｜ Tutorial ｜ PRS SE McCarty 594 [qZp6chNS0MI].mp3\")\n",
        "\n",
        "# Define the time window to slow down (in milliseconds)\n",
        "start_ms = 232_000  # 10 seconds\n",
        "end_ms = 345_000    # 20 seconds\n",
        "\n",
        "# Extract the segment\n",
        "segment = audio[start_ms:end_ms]\n",
        "\n",
        "# Slow it down (note: this lowers the pitch)\n",
        "slowed_segment = segment._spawn(segment.raw_data, overrides={\n",
        "    \"frame_rate\": int(segment.frame_rate * 0.8)  # Slowed to 70% speed\n",
        "}).set_frame_rate(segment.frame_rate)\n",
        "\n",
        "# Export just the slowed segment\n",
        "slowed_segment.export(\"slowed_segment_o8.mp3\", format=\"mp3\")\n"
      ],
      "metadata": {
        "colab": {
          "base_uri": "https://localhost:8080/"
        },
        "id": "zWLJQiGta-VE",
        "outputId": "c4b2f7a2-c78d-4728-cfbe-219e8bc202b6"
      },
      "execution_count": 9,
      "outputs": [
        {
          "output_type": "execute_result",
          "data": {
            "text/plain": [
              "<_io.BufferedRandom name='slowed_segment_o8.mp3'>"
            ]
          },
          "metadata": {},
          "execution_count": 9
        }
      ]
    }
  ]
}